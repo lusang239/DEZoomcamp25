{
 "cells": [
  {
   "cell_type": "code",
   "execution_count": 1,
   "id": "59dc9d39-7b84-40d0-b379-135d328b31f4",
   "metadata": {},
   "outputs": [],
   "source": [
    "import pandas as pd\n",
    "import pyarrow\n",
    "from google.cloud import storage\n",
    "import urllib.request\n",
    "import os"
   ]
  },
  {
   "cell_type": "code",
   "execution_count": 2,
   "id": "b16c4fbb-4130-480e-a5b4-ade04e8fc29d",
   "metadata": {},
   "outputs": [],
   "source": [
    "init_url = f'https://github.com/DataTalksClub/nyc-tlc-data/releases/download'\n",
    "CREDENTIALS_FILE = './gcs.json'\n",
    "BUCKET_NAME = 'nyc-tl-data-01'"
   ]
  },
  {
   "cell_type": "code",
   "execution_count": null,
   "id": "d27a1106-e45f-4942-b398-30b4084d526f",
   "metadata": {},
   "outputs": [],
   "source": [
    "def fetch(dataset_url: str, year: str, color: str) -> pd.DataFrame:\n",
    "    if color == 'fhv':\n",
    "        dtypes = {'dispatching_base_num':'str', 'PUlocationID':'Int64', 'DOlocationID':'Int64', 'SR_Flag':'Int64'}\n",
    "        date_cols = ['pickup_datetime', 'dropOff_datetime']\n",
    "    elif color == 'green':\n",
    "        dtypes = {'VendorID':'Int64', 'store_and_fwd_flag':'str', 'RatecodeID':'Int64', 'PULocationID':'Int64', 'DOLocationID':'Int64', \\\n",
    "                  'passenger_count':'Int64', 'ehail_fee':'Float64', 'payment_type':'Int64', 'trip_type':'Int64'}\n",
    "        date_cols = ['lpep_pickup_datetime', 'lpep_dropoff_datetime']\n",
    "    else:\n",
    "        dtypes = {'VendorID':'Int64', 'store_and_fwd_flag':'str', 'RatecodeID':'Int64', 'PULocationID':'Int64', 'DOLocationID':'Int64', \\\n",
    "                  'passenger_count':'Int64', 'payment_type':'Int64'}\n",
    "        date_cols = ['tpep_pickup_datetime', 'tpep_dropoff_datetime']\n",
    "        \n",
    "    df = pd.read_csv(dataset_url, compression='gzip', parse_dates=date_cols, dtype=dtypes)\n",
    "    return df"
   ]
  },
  {
   "cell_type": "code",
   "execution_count": 4,
   "id": "68f99004-8edb-4223-803f-cbef1aad859f",
   "metadata": {},
   "outputs": [],
   "source": [
    "def upload_to_gcs(object_name: str, local_file: os.path):\n",
    "    client = storage.Client.from_service_account_json(CREDENTIALS_FILE)\n",
    "    bucket = client.bucket(BUCKET_NAME)\n",
    "    blob = bucket.blob(object_name)\n",
    "    blob.upload_from_filename(local_file)"
   ]
  },
  {
   "cell_type": "code",
   "execution_count": 5,
   "id": "050db1cf-13c0-4aa0-a36d-77c8f41ee901",
   "metadata": {},
   "outputs": [],
   "source": [
    "def web_to_gcs(color: str, year: str):\n",
    "    for i in range(1,13):\n",
    "        month = f'{i:02d}'\n",
    "        filename = f'{color}_tripdata_{year}-{month}'\n",
    "        dataset_url = f'{init_url}/{color}/{filename}.csv.gz'\n",
    "        df = fetch(dataset_url, color)\n",
    "\n",
    "        cwd = os.getcwd()\n",
    "        file_path = os.path.join(cwd, f'{filename}.parquet')\n",
    "        df.to_parquet(file_path, engine='pyarrow')\n",
    "\n",
    "        upload_to_gcs(f'{color}/{filename}.parquet', file_path)\n",
    "        print(f'GCS: {color}/{filename}.parquet')"
   ]
  },
  {
   "cell_type": "code",
   "execution_count": 6,
   "id": "e2457ba1-22bb-4985-8add-784fdc0b0465",
   "metadata": {},
   "outputs": [
    {
     "name": "stderr",
     "output_type": "stream",
     "text": [
      "/Users/sandra/Desktop/6_dbt_cloud/.venv/lib/python3.13/site-packages/google_crc32c/__init__.py:29: RuntimeWarning: As the c extension couldn't be imported, `google-crc32c` is using a pure python implementation that is significantly slower. If possible, please configure a c build environment and compile the extension\n",
      "  warnings.warn(_SLOW_CRC32C_WARNING, RuntimeWarning)\n"
     ]
    },
    {
     "name": "stdout",
     "output_type": "stream",
     "text": [
      "GCS: yellow/yellow_tripdata_2019-01.parquet\n",
      "GCS: yellow/yellow_tripdata_2019-02.parquet\n",
      "GCS: yellow/yellow_tripdata_2019-03.parquet\n",
      "GCS: yellow/yellow_tripdata_2019-04.parquet\n",
      "GCS: yellow/yellow_tripdata_2019-05.parquet\n",
      "GCS: yellow/yellow_tripdata_2019-06.parquet\n",
      "GCS: yellow/yellow_tripdata_2019-07.parquet\n",
      "GCS: yellow/yellow_tripdata_2019-08.parquet\n",
      "GCS: yellow/yellow_tripdata_2019-09.parquet\n",
      "GCS: yellow/yellow_tripdata_2019-10.parquet\n",
      "GCS: yellow/yellow_tripdata_2019-11.parquet\n",
      "GCS: yellow/yellow_tripdata_2019-12.parquet\n",
      "GCS: yellow/yellow_tripdata_2020-01.parquet\n",
      "GCS: yellow/yellow_tripdata_2020-02.parquet\n",
      "GCS: yellow/yellow_tripdata_2020-03.parquet\n",
      "GCS: yellow/yellow_tripdata_2020-04.parquet\n",
      "GCS: yellow/yellow_tripdata_2020-05.parquet\n",
      "GCS: yellow/yellow_tripdata_2020-06.parquet\n",
      "GCS: yellow/yellow_tripdata_2020-07.parquet\n",
      "GCS: yellow/yellow_tripdata_2020-08.parquet\n",
      "GCS: yellow/yellow_tripdata_2020-09.parquet\n",
      "GCS: yellow/yellow_tripdata_2020-10.parquet\n",
      "GCS: yellow/yellow_tripdata_2020-11.parquet\n",
      "GCS: yellow/yellow_tripdata_2020-12.parquet\n"
     ]
    }
   ],
   "source": [
    "# web_to_gcs('green', '2019')\n",
    "# web_to_gcs('green', '2020')\n",
    "web_to_gcs('yellow', '2019')\n",
    "web_to_gcs('yellow', '2020')"
   ]
  },
  {
   "cell_type": "code",
   "execution_count": null,
   "id": "4be25fec-27df-46ed-9cf3-6c212b26112b",
   "metadata": {},
   "outputs": [],
   "source": []
  }
 ],
 "metadata": {
  "kernelspec": {
   "display_name": "venv",
   "language": "python",
   "name": "venv"
  },
  "language_info": {
   "codemirror_mode": {
    "name": "ipython",
    "version": 3
   },
   "file_extension": ".py",
   "mimetype": "text/x-python",
   "name": "python",
   "nbconvert_exporter": "python",
   "pygments_lexer": "ipython3",
   "version": "3.13.2"
  }
 },
 "nbformat": 4,
 "nbformat_minor": 5
}
