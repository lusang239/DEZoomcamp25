{
 "cells": [
  {
   "cell_type": "code",
   "execution_count": 1,
   "metadata": {},
   "outputs": [
    {
     "name": "stdout",
     "output_type": "stream",
     "text": [
      "{'lpep_pickup_datetime': '2019-10-01 00:28:00', 'lpep_dropoff_datetime': '2019-10-01 00:50:00', 'PULocationID': '42', 'DOLocationID': '174', 'passenger_count': '0', 'trip_distance': '7.62', 'tip_amount': '0'}\n",
      "{'lpep_pickup_datetime': '2019-10-01 00:11:00', 'lpep_dropoff_datetime': '2019-10-01 00:25:00', 'PULocationID': '185', 'DOLocationID': '136', 'passenger_count': '0', 'trip_distance': '4.12', 'tip_amount': '0'}\n",
      "{'lpep_pickup_datetime': '2019-10-01 00:01:00', 'lpep_dropoff_datetime': '2019-10-01 00:33:00', 'PULocationID': '166', 'DOLocationID': '254', 'passenger_count': '0', 'trip_distance': '11.10', 'tip_amount': '0'}\n",
      "{'lpep_pickup_datetime': '2019-10-01 00:04:00', 'lpep_dropoff_datetime': '2019-10-01 00:36:00', 'PULocationID': '92', 'DOLocationID': '91', 'passenger_count': '0', 'trip_distance': '12.99', 'tip_amount': '0'}\n",
      "{'lpep_pickup_datetime': '2019-10-01 00:18:00', 'lpep_dropoff_datetime': '2019-10-01 00:43:00', 'PULocationID': '226', 'DOLocationID': '219', 'passenger_count': '0', 'trip_distance': '14.48', 'tip_amount': '0'}\n",
      "{'lpep_pickup_datetime': '2019-10-01 00:23:00', 'lpep_dropoff_datetime': '2019-10-01 00:51:00', 'PULocationID': '227', 'DOLocationID': '91', 'passenger_count': '0', 'trip_distance': '5.39', 'tip_amount': '0'}\n",
      "{'lpep_pickup_datetime': '2019-10-01 00:19:00', 'lpep_dropoff_datetime': '2019-10-01 00:54:00', 'PULocationID': '75', 'DOLocationID': '177', 'passenger_count': '0', 'trip_distance': '17.81', 'tip_amount': '0'}\n",
      "{'lpep_pickup_datetime': '2019-10-01 00:41:00', 'lpep_dropoff_datetime': '2019-10-01 01:01:00', 'PULocationID': '177', 'DOLocationID': '188', 'passenger_count': '0', 'trip_distance': '4.05', 'tip_amount': '0'}\n",
      "{'lpep_pickup_datetime': '2019-10-01 00:08:00', 'lpep_dropoff_datetime': '2019-10-01 00:39:00', 'PULocationID': '136', 'DOLocationID': '90', 'passenger_count': '0', 'trip_distance': '12.82', 'tip_amount': '0'}\n",
      "{'lpep_pickup_datetime': '2019-10-01 01:53:00', 'lpep_dropoff_datetime': '2019-10-01 02:12:00', 'PULocationID': '213', 'DOLocationID': '41', 'passenger_count': '0', 'trip_distance': '6.57', 'tip_amount': '0'}\n",
      "{'lpep_pickup_datetime': '2019-10-01 01:05:00', 'lpep_dropoff_datetime': '2019-10-01 01:10:00', 'PULocationID': '20', 'DOLocationID': '20', 'passenger_count': '0', 'trip_distance': '.61', 'tip_amount': '0'}\n"
     ]
    }
   ],
   "source": [
    "import csv\n",
    "from Trips import Trip\n",
    "\n",
    "data = 'green_tripdata_2019-10.csv'\n",
    "\n",
    "with open(data, \"r\") as f:\n",
    "    reader = csv.DictReader(f)\n",
    "    count = 0\n",
    "\n",
    "    for row in reader:\n",
    "        if count <= 10 and row['passenger_count'] == '':\n",
    "            print(Trip(d=row).to_dict())\n",
    "            count += 1"
   ]
  },
  {
   "cell_type": "code",
   "execution_count": null,
   "metadata": {},
   "outputs": [],
   "source": []
  }
 ],
 "metadata": {
  "kernelspec": {
   "display_name": ".venv",
   "language": "python",
   "name": "python3"
  },
  "language_info": {
   "codemirror_mode": {
    "name": "ipython",
    "version": 3
   },
   "file_extension": ".py",
   "mimetype": "text/x-python",
   "name": "python",
   "nbconvert_exporter": "python",
   "pygments_lexer": "ipython3",
   "version": "3.13.2"
  }
 },
 "nbformat": 4,
 "nbformat_minor": 2
}
